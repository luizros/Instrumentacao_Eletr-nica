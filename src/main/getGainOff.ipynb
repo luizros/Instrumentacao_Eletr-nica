{
 "cells": [
  {
   "cell_type": "code",
   "execution_count": 1,
   "metadata": {},
   "outputs": [
    {
     "name": "stderr",
     "output_type": "stream",
     "text": [
      "/tmp/ipykernel_810/927149655.py:6: FutureWarning: DataFrame.applymap has been deprecated. Use DataFrame.map instead.\n",
      "  df = df.applymap(lambda x: str(x).replace(',', '.'))\n"
     ]
    },
    {
     "data": {
      "text/html": [
       "<div>\n",
       "<style scoped>\n",
       "    .dataframe tbody tr th:only-of-type {\n",
       "        vertical-align: middle;\n",
       "    }\n",
       "\n",
       "    .dataframe tbody tr th {\n",
       "        vertical-align: top;\n",
       "    }\n",
       "\n",
       "    .dataframe thead th {\n",
       "        text-align: right;\n",
       "    }\n",
       "</style>\n",
       "<table border=\"1\" class=\"dataframe\">\n",
       "  <thead>\n",
       "    <tr style=\"text-align: right;\">\n",
       "      <th></th>\n",
       "      <th>x pos</th>\n",
       "      <th>x neg</th>\n",
       "      <th>y pos</th>\n",
       "      <th>y neg</th>\n",
       "      <th>z pos</th>\n",
       "      <th>z neg</th>\n",
       "    </tr>\n",
       "  </thead>\n",
       "  <tbody>\n",
       "    <tr>\n",
       "      <th>0</th>\n",
       "      <td>1.01</td>\n",
       "      <td>-0.95</td>\n",
       "      <td>1.0</td>\n",
       "      <td>-1.0</td>\n",
       "      <td>1.04</td>\n",
       "      <td>-0.96</td>\n",
       "    </tr>\n",
       "  </tbody>\n",
       "</table>\n",
       "</div>"
      ],
      "text/plain": [
       "   x pos  x neg  y pos  y neg  z pos  z neg\n",
       "0   1.01  -0.95    1.0   -1.0   1.04  -0.96"
      ]
     },
     "execution_count": 1,
     "metadata": {},
     "output_type": "execute_result"
    }
   ],
   "source": [
    "import numpy as np\n",
    "import matplotlib.pyplot as plt\n",
    "import pandas as pd\n",
    "\n",
    "df = pd.read_csv('../../data/media.csv', sep=':')\n",
    "df = df.applymap(lambda x: str(x).replace(',', '.'))\n",
    "df['x pos'] = df['x pos'].astype(float) \n",
    "df['y pos'] = df['y pos'].astype(float) \n",
    "df['z pos'] = df['z pos'].astype(float) \n",
    "df['x neg'] = df['x neg'].astype(float) \n",
    "df['y neg'] = df['y neg'].astype(float) \n",
    "df['z neg'] = df['z neg'].astype(float) \n",
    "df\n"
   ]
  },
  {
   "cell_type": "markdown",
   "metadata": {},
   "source": [
    "## Saida do sensor\n",
    "$$A_{saida} = Ganho × A_{ref} + A{offset}$$\n",
    "\n",
    "\n",
    "$\\text{A}_{\\text{saida}}$: valor de aceleração na saída do sensor medido em valores de gravidade [g]\n",
    "\n",
    "$\\text{Ganho}$: parâmetro adimensional. No caso em que os movimentos no sensor somente se vejam  \n",
    "afetados pela aceleração devida a gravidade, o ganho deve estar muito próximo de 1.\n",
    "\n",
    "$\\text{A}_{\\text{ref}}$ : valor de aceleração de referência. Para nosso caso, ±1 g.  \n",
    "\n",
    "$\\text{A}_{\\text{offset}}$: valor de aceleração fixo que afeta as leituras em cada eixo do sensor. Pode ser considerado um erro sistemático do sistema  \n",
    "\n",
    "\n",
    "## Obtenção do ganho\n",
    "\n",
    "$$\\bar{A}_{+1g,i} = Ganho_{}\\cdot(1g) + A_{offset,i}$$\n",
    "$$\\bar{A}_{-1g,i} = Ganho_{}\\cdot(1g) + A_{offset,i}$$\n",
    "\n"
   ]
  },
  {
   "cell_type": "code",
   "execution_count": 3,
   "metadata": {},
   "outputs": [
    {
     "name": "stdout",
     "output_type": "stream",
     "text": [
      "Valores de b:  [1.01, -0.95]\n",
      "Valores de b:  [1.0, -1.0]\n",
      "Valores de b:  [1.04, -0.96]\n",
      "Valores de A:  [[1, 1], [-1, 1]]\n"
     ]
    }
   ],
   "source": [
    "# Montemos a matriz Ax = b para encontrar os valores de Ganho e Aoffset\n",
    "\n",
    "# Eixo_x\n",
    "b_x = [df['x pos'][0], df['x neg'][0]]\n",
    "\n",
    "A = [[1, 1], [-1, 1]]\n",
    "\n",
    "b_y = [df['y pos'][0], df['y neg'][0]]\n",
    "b_z = [df['z pos'][0], df['z neg'][0]]\n",
    "\n",
    "print(\"Valores de b: \", b_x)\n",
    "print(\"Valores de b: \", b_y)\n",
    "print(\"Valores de b: \", b_z)\n",
    "print(\"Valores de A: \", A)\n"
   ]
  },
  {
   "cell_type": "code",
   "execution_count": 4,
   "metadata": {},
   "outputs": [],
   "source": [
    "# Resolvendo o sistema\n",
    "solucao_x = np.linalg.solve(A, b_x)\n",
    "solucao_y = np.linalg.solve(A, b_y)\n",
    "solucao_z = np.linalg.solve(A, b_z)\n"
   ]
  },
  {
   "cell_type": "code",
   "execution_count": 5,
   "metadata": {},
   "outputs": [
    {
     "name": "stdout",
     "output_type": "stream",
     "text": [
      "Ganho x:  0.98\n",
      "Offset x:  0.030000000000000027\n",
      "Ganho y:  1.0\n",
      "Offset y:  0.0\n",
      "Ganho z:  1.0\n",
      "Offset z:  0.040000000000000036\n"
     ]
    }
   ],
   "source": [
    "print(\"Ganho x: \", solucao_x[0])\n",
    "print(\"Offset x: \", solucao_x[1])\n",
    "print(\"Ganho y: \", solucao_y[0])\n",
    "print(\"Offset y: \", solucao_y[1])\n",
    "print(\"Ganho z: \", solucao_z[0])\n",
    "print(\"Offset z: \", solucao_z[1])"
   ]
  }
 ],
 "metadata": {
  "kernelspec": {
   "display_name": "dev",
   "language": "python",
   "name": "python3"
  },
  "language_info": {
   "codemirror_mode": {
    "name": "ipython",
    "version": 3
   },
   "file_extension": ".py",
   "mimetype": "text/x-python",
   "name": "python",
   "nbconvert_exporter": "python",
   "pygments_lexer": "ipython3",
   "version": "3.11.2"
  }
 },
 "nbformat": 4,
 "nbformat_minor": 2
}
